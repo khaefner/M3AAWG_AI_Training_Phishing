{
  "cells": [
    {
      "cell_type": "markdown",
      "metadata": {
        "id": "view-in-github",
        "colab_type": "text"
      },
      "source": [
        "<a href=\"https://colab.research.google.com/github/khaefner/M3AAWG_AI_Training_Phishing/blob/main/Phish.ipynb\" target=\"_parent\"><img src=\"https://colab.research.google.com/assets/colab-badge.svg\" alt=\"Open In Colab\"/></a>"
      ]
    },
    {
      "cell_type": "markdown",
      "metadata": {
        "id": "zx3dJMmwCZPW"
      },
      "source": [
        "# Contents\n",
        "\n",
        "1. [Loading Data](#loading_data)\n",
        "2. Exploring the Data\n",
        "3. Pre-process Data\n",
        "4.  \n",
        "\n",
        "[K-Nearest Neighbors] (#knn)\n",
        "\n",
        "[Deep Neural Networks](#dnn)\n"
      ]
    },
    {
      "cell_type": "markdown",
      "metadata": {
        "id": "6k9F_4q4w2fH"
      },
      "source": [
        "First we need a dataset to work on.  The one we'll be using is from 2021 on Kagle at the URL below.\n",
        "\n",
        "\n",
        "https://www.kaggle.com/datasets/shashwatwork/web-page-phishing-detection-dataset"
      ]
    },
    {
      "cell_type": "markdown",
      "metadata": {
        "id": "rB7LByUy-1cu"
      },
      "source": [
        "Next we'll start with a library that can load data from a comma dilimited file and a library used for matrix calculations.\n",
        "THe file is host on the github site.\n"
      ]
    },
    {
      "cell_type": "code",
      "execution_count": null,
      "metadata": {
        "id": "QR4KMx4WEkwC"
      },
      "outputs": [],
      "source": [
        "#This hides some of the warnings we get in MLP\n",
        "def warn(*args, **kwargs):\n",
        "    pass\n",
        "import warnings\n",
        "warnings.warn = warn\n",
        "\n",
        "import pandas as pd  #Pandas is a data manipulation library\n",
        "import numpy as np   # numpy is computing library that uses C libraries in the backend\n",
        "from sklearn.model_selection import StratifiedKFold   #This gives us nice 'slices' of examples for training and testing\n",
        "\n",
        "from sklearn.neighbors import KNeighborsClassifier  # K Nearest Neighbors\n",
        "from sklearn.tree import DecisionTreeClassifier  # Decision Trees\n",
        "from sklearn.ensemble import RandomForestClassifier  # Random Forrest Classifier\n",
        "from sklearn.neural_network import MLPClassifier   #Neural Network Classifier\n",
        "\n",
        "from sklearn.metrics import accuracy_score, recall_score, precision_score, f1_score  #Libraries for calculating scores.\n"
      ]
    },
    {
      "cell_type": "markdown",
      "metadata": {
        "id": "HccFDs12tc65"
      },
      "source": [
        "<a id='loading_data'></a>\n",
        "# Loading Data\n",
        "The Data we are going to use is from a dataset hosted on Kaggle.\n",
        "\n",
        "Here:[Phishing Dataset](https://www.kaggle.com/datasets/shashwatwork/web-page-phishing-detection-dataset)\n",
        "\n",
        "Original Source of data:\n",
        "\n",
        "[Web Page Phishing Detection](#https://data.mendeley.com/datasets/c2gw7fy2j4/3)"
      ]
    },
    {
      "cell_type": "code",
      "execution_count": null,
      "metadata": {
        "id": "hNaOkM3ktbPc"
      },
      "outputs": [],
      "source": [
        "phishing_data = pd.read_csv(\"https://raw.githubusercontent.com/khaefner/M3AAWG_AI_Training_Phishing/main/dataset_phishing.csv\")"
      ]
    },
    {
      "cell_type": "markdown",
      "metadata": {
        "id": "uZjSG-rXuuXV"
      },
      "source": [
        "# Exploring Data"
      ]
    },
    {
      "cell_type": "code",
      "execution_count": null,
      "metadata": {
        "colab": {
          "base_uri": "https://localhost:8080/"
        },
        "id": "Nre9rTHFEuHk",
        "outputId": "847fdd01-cc69-49e9-9ae7-45987cf24a02"
      },
      "outputs": [
        {
          "name": "stdout",
          "output_type": "stream",
          "text": [
            "                                                     url  length_url  \\\n",
            "0                  http://www.crestonwood.com/router.php          37   \n",
            "1      http://shadetreetechnology.com/V4/validation/a...          77   \n",
            "2      https://support-appleld.com.secureupdate.duila...         126   \n",
            "3                                     http://rgipt.ac.in          18   \n",
            "4      http://www.iracing.com/tracks/gateway-motorspo...          55   \n",
            "...                                                  ...         ...   \n",
            "11425      http://www.fontspace.com/category/blackletter          45   \n",
            "11426  http://www.budgetbots.com/server.php/Server%20...          84   \n",
            "11427  https://www.facebook.com/Interactive-Televisio...         105   \n",
            "11428             http://www.mypublicdomainpictures.com/          38   \n",
            "11429  http://174.139.46.123/ap/signin?openid.pape.ma...         477   \n",
            "\n",
            "       length_hostname  ip  nb_dots  nb_hyphens  nb_at  nb_qm  nb_and  nb_or  \\\n",
            "0                   19   0        3           0      0      0       0      0   \n",
            "1                   23   1        1           0      0      0       0      0   \n",
            "2                   50   1        4           1      0      1       2      0   \n",
            "3                   11   0        2           0      0      0       0      0   \n",
            "4                   15   0        2           2      0      0       0      0   \n",
            "...                ...  ..      ...         ...    ...    ...     ...    ...   \n",
            "11425               17   0        2           0      0      0       0      0   \n",
            "11426               18   0        5           0      1      1       0      0   \n",
            "11427               16   1        2           6      0      1       0      0   \n",
            "11428               30   0        2           0      0      0       0      0   \n",
            "11429               14   1       24           0      1      1       9      0   \n",
            "\n",
            "       ...  domain_in_title  domain_with_copyright  whois_registered_domain  \\\n",
            "0      ...                0                      1                        0   \n",
            "1      ...                1                      0                        0   \n",
            "2      ...                1                      0                        0   \n",
            "3      ...                1                      0                        0   \n",
            "4      ...                0                      1                        0   \n",
            "...    ...              ...                    ...                      ...   \n",
            "11425  ...                0                      0                        0   \n",
            "11426  ...                1                      0                        0   \n",
            "11427  ...                0                      0                        0   \n",
            "11428  ...                1                      0                        0   \n",
            "11429  ...                1                      1                        1   \n",
            "\n",
            "       domain_registration_length  domain_age  web_traffic  dns_record  \\\n",
            "0                              45          -1            0           1   \n",
            "1                              77        5767            0           0   \n",
            "2                              14        4004      5828815           0   \n",
            "3                              62          -1       107721           0   \n",
            "4                             224        8175         8725           0   \n",
            "...                           ...         ...          ...         ...   \n",
            "11425                         448        5396         3980           0   \n",
            "11426                         211        6728            0           0   \n",
            "11427                        2809        8515            8           0   \n",
            "11428                          85        2836      2455493           0   \n",
            "11429                           0          -1            0           1   \n",
            "\n",
            "       google_index  page_rank      status  \n",
            "0                 1          4  legitimate  \n",
            "1                 1          2    phishing  \n",
            "2                 1          0    phishing  \n",
            "3                 0          3  legitimate  \n",
            "4                 0          6  legitimate  \n",
            "...             ...        ...         ...  \n",
            "11425             0          6  legitimate  \n",
            "11426             1          0    phishing  \n",
            "11427             1         10  legitimate  \n",
            "11428             0          4  legitimate  \n",
            "11429             1          0    phishing  \n",
            "\n",
            "[11430 rows x 89 columns]\n"
          ]
        }
      ],
      "source": [
        "print(phishing_data)"
      ]
    },
    {
      "cell_type": "markdown",
      "metadata": {
        "id": "etPcc9-G95vF"
      },
      "source": [
        "We see that this data has 89 columns.  These are called *features*. In this data things like length of the url,  lenght of the hostname, etc.  Rows are datapoints corresponding to one of the domains.  These are also called *examples*.  \n",
        "\n",
        "Note:  There is one column that has special meaning.  This is the last column in the table above called, *status*.  This is the label for the website.  We are going to do **supervised** learning which means the algorithm is going to learn from the data and the label."
      ]
    },
    {
      "cell_type": "markdown",
      "metadata": {
        "id": "QCntFECHvC32"
      },
      "source": [
        "# Data Pre-Process"
      ]
    },
    {
      "cell_type": "markdown",
      "metadata": {
        "id": "jVQdi8NuUO2d"
      },
      "source": [
        "Next we need to clean up the data a bit and get it ready to analyze.  \n",
        "\n",
        "\n",
        "1.   Remove the URL column.  The actual URL is not useful to the model.\n",
        "2.   Alter the Label (status=legitimate or status=phishing to 0 or 1)\n",
        "\n"
      ]
    },
    {
      "cell_type": "code",
      "execution_count": null,
      "metadata": {
        "colab": {
          "base_uri": "https://localhost:8080/"
        },
        "id": "fNHrIK7QUtN-",
        "outputId": "62ed1355-16ce-461e-b95a-081532fcd644"
      },
      "outputs": [
        {
          "name": "stdout",
          "output_type": "stream",
          "text": [
            "       length_url  length_hostname  ip  nb_dots  nb_hyphens  nb_at  nb_qm  \\\n",
            "0              37               19   0        3           0      0      0   \n",
            "1              77               23   1        1           0      0      0   \n",
            "2             126               50   1        4           1      0      1   \n",
            "3              18               11   0        2           0      0      0   \n",
            "4              55               15   0        2           2      0      0   \n",
            "...           ...              ...  ..      ...         ...    ...    ...   \n",
            "11425          45               17   0        2           0      0      0   \n",
            "11426          84               18   0        5           0      1      1   \n",
            "11427         105               16   1        2           6      0      1   \n",
            "11428          38               30   0        2           0      0      0   \n",
            "11429         477               14   1       24           0      1      1   \n",
            "\n",
            "       nb_and  nb_or  nb_eq  ...  domain_in_title  domain_with_copyright  \\\n",
            "0           0      0      0  ...                0                      1   \n",
            "1           0      0      0  ...                1                      0   \n",
            "2           2      0      3  ...                1                      0   \n",
            "3           0      0      0  ...                1                      0   \n",
            "4           0      0      0  ...                0                      1   \n",
            "...       ...    ...    ...  ...              ...                    ...   \n",
            "11425       0      0      0  ...                0                      0   \n",
            "11426       0      0      1  ...                1                      0   \n",
            "11427       0      0      1  ...                0                      0   \n",
            "11428       0      0      0  ...                1                      0   \n",
            "11429       9      0      9  ...                1                      1   \n",
            "\n",
            "       whois_registered_domain  domain_registration_length  domain_age  \\\n",
            "0                            0                          45          -1   \n",
            "1                            0                          77        5767   \n",
            "2                            0                          14        4004   \n",
            "3                            0                          62          -1   \n",
            "4                            0                         224        8175   \n",
            "...                        ...                         ...         ...   \n",
            "11425                        0                         448        5396   \n",
            "11426                        0                         211        6728   \n",
            "11427                        0                        2809        8515   \n",
            "11428                        0                          85        2836   \n",
            "11429                        1                           0          -1   \n",
            "\n",
            "       web_traffic  dns_record  google_index  page_rank      status  \n",
            "0                0           1             1          4  legitimate  \n",
            "1                0           0             1          2    phishing  \n",
            "2          5828815           0             1          0    phishing  \n",
            "3           107721           0             0          3  legitimate  \n",
            "4             8725           0             0          6  legitimate  \n",
            "...            ...         ...           ...        ...         ...  \n",
            "11425         3980           0             0          6  legitimate  \n",
            "11426            0           0             1          0    phishing  \n",
            "11427            8           0             1         10  legitimate  \n",
            "11428      2455493           0             0          4  legitimate  \n",
            "11429            0           1             1          0    phishing  \n",
            "\n",
            "[11430 rows x 88 columns]\n"
          ]
        }
      ],
      "source": [
        "#Get rid of the first column:\n",
        "phishing_data = phishing_data.iloc[:, 1:]\n",
        "#Print the result\n",
        "print(phishing_data)"
      ]
    },
    {
      "cell_type": "code",
      "execution_count": null,
      "metadata": {
        "colab": {
          "base_uri": "https://localhost:8080/",
          "height": 443
        },
        "id": "G7Ok5-GcU-Qg",
        "outputId": "16c0cd76-872b-40a1-e03d-541d5e2daf97"
      },
      "outputs": [
        {
          "data": {
            "text/html": [
              "\n",
              "  <div id=\"df-eb5e26e7-eb2d-4f9a-ad3c-699ffc1b215c\" class=\"colab-df-container\">\n",
              "    <div>\n",
              "<style scoped>\n",
              "    .dataframe tbody tr th:only-of-type {\n",
              "        vertical-align: middle;\n",
              "    }\n",
              "\n",
              "    .dataframe tbody tr th {\n",
              "        vertical-align: top;\n",
              "    }\n",
              "\n",
              "    .dataframe thead th {\n",
              "        text-align: right;\n",
              "    }\n",
              "</style>\n",
              "<table border=\"1\" class=\"dataframe\">\n",
              "  <thead>\n",
              "    <tr style=\"text-align: right;\">\n",
              "      <th></th>\n",
              "      <th>length_url</th>\n",
              "      <th>length_hostname</th>\n",
              "      <th>ip</th>\n",
              "      <th>nb_dots</th>\n",
              "      <th>nb_hyphens</th>\n",
              "      <th>nb_at</th>\n",
              "      <th>nb_qm</th>\n",
              "      <th>nb_and</th>\n",
              "      <th>nb_or</th>\n",
              "      <th>nb_eq</th>\n",
              "      <th>...</th>\n",
              "      <th>domain_in_title</th>\n",
              "      <th>domain_with_copyright</th>\n",
              "      <th>whois_registered_domain</th>\n",
              "      <th>domain_registration_length</th>\n",
              "      <th>domain_age</th>\n",
              "      <th>web_traffic</th>\n",
              "      <th>dns_record</th>\n",
              "      <th>google_index</th>\n",
              "      <th>page_rank</th>\n",
              "      <th>status</th>\n",
              "    </tr>\n",
              "  </thead>\n",
              "  <tbody>\n",
              "    <tr>\n",
              "      <th>0</th>\n",
              "      <td>37</td>\n",
              "      <td>19</td>\n",
              "      <td>0</td>\n",
              "      <td>3</td>\n",
              "      <td>0</td>\n",
              "      <td>0</td>\n",
              "      <td>0</td>\n",
              "      <td>0</td>\n",
              "      <td>0</td>\n",
              "      <td>0</td>\n",
              "      <td>...</td>\n",
              "      <td>0</td>\n",
              "      <td>1</td>\n",
              "      <td>0</td>\n",
              "      <td>45</td>\n",
              "      <td>-1</td>\n",
              "      <td>0</td>\n",
              "      <td>1</td>\n",
              "      <td>1</td>\n",
              "      <td>4</td>\n",
              "      <td>0</td>\n",
              "    </tr>\n",
              "    <tr>\n",
              "      <th>1</th>\n",
              "      <td>77</td>\n",
              "      <td>23</td>\n",
              "      <td>1</td>\n",
              "      <td>1</td>\n",
              "      <td>0</td>\n",
              "      <td>0</td>\n",
              "      <td>0</td>\n",
              "      <td>0</td>\n",
              "      <td>0</td>\n",
              "      <td>0</td>\n",
              "      <td>...</td>\n",
              "      <td>1</td>\n",
              "      <td>0</td>\n",
              "      <td>0</td>\n",
              "      <td>77</td>\n",
              "      <td>5767</td>\n",
              "      <td>0</td>\n",
              "      <td>0</td>\n",
              "      <td>1</td>\n",
              "      <td>2</td>\n",
              "      <td>1</td>\n",
              "    </tr>\n",
              "    <tr>\n",
              "      <th>2</th>\n",
              "      <td>126</td>\n",
              "      <td>50</td>\n",
              "      <td>1</td>\n",
              "      <td>4</td>\n",
              "      <td>1</td>\n",
              "      <td>0</td>\n",
              "      <td>1</td>\n",
              "      <td>2</td>\n",
              "      <td>0</td>\n",
              "      <td>3</td>\n",
              "      <td>...</td>\n",
              "      <td>1</td>\n",
              "      <td>0</td>\n",
              "      <td>0</td>\n",
              "      <td>14</td>\n",
              "      <td>4004</td>\n",
              "      <td>5828815</td>\n",
              "      <td>0</td>\n",
              "      <td>1</td>\n",
              "      <td>0</td>\n",
              "      <td>1</td>\n",
              "    </tr>\n",
              "    <tr>\n",
              "      <th>3</th>\n",
              "      <td>18</td>\n",
              "      <td>11</td>\n",
              "      <td>0</td>\n",
              "      <td>2</td>\n",
              "      <td>0</td>\n",
              "      <td>0</td>\n",
              "      <td>0</td>\n",
              "      <td>0</td>\n",
              "      <td>0</td>\n",
              "      <td>0</td>\n",
              "      <td>...</td>\n",
              "      <td>1</td>\n",
              "      <td>0</td>\n",
              "      <td>0</td>\n",
              "      <td>62</td>\n",
              "      <td>-1</td>\n",
              "      <td>107721</td>\n",
              "      <td>0</td>\n",
              "      <td>0</td>\n",
              "      <td>3</td>\n",
              "      <td>0</td>\n",
              "    </tr>\n",
              "    <tr>\n",
              "      <th>4</th>\n",
              "      <td>55</td>\n",
              "      <td>15</td>\n",
              "      <td>0</td>\n",
              "      <td>2</td>\n",
              "      <td>2</td>\n",
              "      <td>0</td>\n",
              "      <td>0</td>\n",
              "      <td>0</td>\n",
              "      <td>0</td>\n",
              "      <td>0</td>\n",
              "      <td>...</td>\n",
              "      <td>0</td>\n",
              "      <td>1</td>\n",
              "      <td>0</td>\n",
              "      <td>224</td>\n",
              "      <td>8175</td>\n",
              "      <td>8725</td>\n",
              "      <td>0</td>\n",
              "      <td>0</td>\n",
              "      <td>6</td>\n",
              "      <td>0</td>\n",
              "    </tr>\n",
              "    <tr>\n",
              "      <th>...</th>\n",
              "      <td>...</td>\n",
              "      <td>...</td>\n",
              "      <td>...</td>\n",
              "      <td>...</td>\n",
              "      <td>...</td>\n",
              "      <td>...</td>\n",
              "      <td>...</td>\n",
              "      <td>...</td>\n",
              "      <td>...</td>\n",
              "      <td>...</td>\n",
              "      <td>...</td>\n",
              "      <td>...</td>\n",
              "      <td>...</td>\n",
              "      <td>...</td>\n",
              "      <td>...</td>\n",
              "      <td>...</td>\n",
              "      <td>...</td>\n",
              "      <td>...</td>\n",
              "      <td>...</td>\n",
              "      <td>...</td>\n",
              "      <td>...</td>\n",
              "    </tr>\n",
              "    <tr>\n",
              "      <th>11425</th>\n",
              "      <td>45</td>\n",
              "      <td>17</td>\n",
              "      <td>0</td>\n",
              "      <td>2</td>\n",
              "      <td>0</td>\n",
              "      <td>0</td>\n",
              "      <td>0</td>\n",
              "      <td>0</td>\n",
              "      <td>0</td>\n",
              "      <td>0</td>\n",
              "      <td>...</td>\n",
              "      <td>0</td>\n",
              "      <td>0</td>\n",
              "      <td>0</td>\n",
              "      <td>448</td>\n",
              "      <td>5396</td>\n",
              "      <td>3980</td>\n",
              "      <td>0</td>\n",
              "      <td>0</td>\n",
              "      <td>6</td>\n",
              "      <td>0</td>\n",
              "    </tr>\n",
              "    <tr>\n",
              "      <th>11426</th>\n",
              "      <td>84</td>\n",
              "      <td>18</td>\n",
              "      <td>0</td>\n",
              "      <td>5</td>\n",
              "      <td>0</td>\n",
              "      <td>1</td>\n",
              "      <td>1</td>\n",
              "      <td>0</td>\n",
              "      <td>0</td>\n",
              "      <td>1</td>\n",
              "      <td>...</td>\n",
              "      <td>1</td>\n",
              "      <td>0</td>\n",
              "      <td>0</td>\n",
              "      <td>211</td>\n",
              "      <td>6728</td>\n",
              "      <td>0</td>\n",
              "      <td>0</td>\n",
              "      <td>1</td>\n",
              "      <td>0</td>\n",
              "      <td>1</td>\n",
              "    </tr>\n",
              "    <tr>\n",
              "      <th>11427</th>\n",
              "      <td>105</td>\n",
              "      <td>16</td>\n",
              "      <td>1</td>\n",
              "      <td>2</td>\n",
              "      <td>6</td>\n",
              "      <td>0</td>\n",
              "      <td>1</td>\n",
              "      <td>0</td>\n",
              "      <td>0</td>\n",
              "      <td>1</td>\n",
              "      <td>...</td>\n",
              "      <td>0</td>\n",
              "      <td>0</td>\n",
              "      <td>0</td>\n",
              "      <td>2809</td>\n",
              "      <td>8515</td>\n",
              "      <td>8</td>\n",
              "      <td>0</td>\n",
              "      <td>1</td>\n",
              "      <td>10</td>\n",
              "      <td>0</td>\n",
              "    </tr>\n",
              "    <tr>\n",
              "      <th>11428</th>\n",
              "      <td>38</td>\n",
              "      <td>30</td>\n",
              "      <td>0</td>\n",
              "      <td>2</td>\n",
              "      <td>0</td>\n",
              "      <td>0</td>\n",
              "      <td>0</td>\n",
              "      <td>0</td>\n",
              "      <td>0</td>\n",
              "      <td>0</td>\n",
              "      <td>...</td>\n",
              "      <td>1</td>\n",
              "      <td>0</td>\n",
              "      <td>0</td>\n",
              "      <td>85</td>\n",
              "      <td>2836</td>\n",
              "      <td>2455493</td>\n",
              "      <td>0</td>\n",
              "      <td>0</td>\n",
              "      <td>4</td>\n",
              "      <td>0</td>\n",
              "    </tr>\n",
              "    <tr>\n",
              "      <th>11429</th>\n",
              "      <td>477</td>\n",
              "      <td>14</td>\n",
              "      <td>1</td>\n",
              "      <td>24</td>\n",
              "      <td>0</td>\n",
              "      <td>1</td>\n",
              "      <td>1</td>\n",
              "      <td>9</td>\n",
              "      <td>0</td>\n",
              "      <td>9</td>\n",
              "      <td>...</td>\n",
              "      <td>1</td>\n",
              "      <td>1</td>\n",
              "      <td>1</td>\n",
              "      <td>0</td>\n",
              "      <td>-1</td>\n",
              "      <td>0</td>\n",
              "      <td>1</td>\n",
              "      <td>1</td>\n",
              "      <td>0</td>\n",
              "      <td>1</td>\n",
              "    </tr>\n",
              "  </tbody>\n",
              "</table>\n",
              "<p>11430 rows × 88 columns</p>\n",
              "</div>\n",
              "    <div class=\"colab-df-buttons\">\n",
              "\n",
              "  <div class=\"colab-df-container\">\n",
              "    <button class=\"colab-df-convert\" onclick=\"convertToInteractive('df-eb5e26e7-eb2d-4f9a-ad3c-699ffc1b215c')\"\n",
              "            title=\"Convert this dataframe to an interactive table.\"\n",
              "            style=\"display:none;\">\n",
              "\n",
              "  <svg xmlns=\"http://www.w3.org/2000/svg\" height=\"24px\" viewBox=\"0 -960 960 960\">\n",
              "    <path d=\"M120-120v-720h720v720H120Zm60-500h600v-160H180v160Zm220 220h160v-160H400v160Zm0 220h160v-160H400v160ZM180-400h160v-160H180v160Zm440 0h160v-160H620v160ZM180-180h160v-160H180v160Zm440 0h160v-160H620v160Z\"/>\n",
              "  </svg>\n",
              "    </button>\n",
              "\n",
              "  <style>\n",
              "    .colab-df-container {\n",
              "      display:flex;\n",
              "      gap: 12px;\n",
              "    }\n",
              "\n",
              "    .colab-df-convert {\n",
              "      background-color: #E8F0FE;\n",
              "      border: none;\n",
              "      border-radius: 50%;\n",
              "      cursor: pointer;\n",
              "      display: none;\n",
              "      fill: #1967D2;\n",
              "      height: 32px;\n",
              "      padding: 0 0 0 0;\n",
              "      width: 32px;\n",
              "    }\n",
              "\n",
              "    .colab-df-convert:hover {\n",
              "      background-color: #E2EBFA;\n",
              "      box-shadow: 0px 1px 2px rgba(60, 64, 67, 0.3), 0px 1px 3px 1px rgba(60, 64, 67, 0.15);\n",
              "      fill: #174EA6;\n",
              "    }\n",
              "\n",
              "    .colab-df-buttons div {\n",
              "      margin-bottom: 4px;\n",
              "    }\n",
              "\n",
              "    [theme=dark] .colab-df-convert {\n",
              "      background-color: #3B4455;\n",
              "      fill: #D2E3FC;\n",
              "    }\n",
              "\n",
              "    [theme=dark] .colab-df-convert:hover {\n",
              "      background-color: #434B5C;\n",
              "      box-shadow: 0px 1px 3px 1px rgba(0, 0, 0, 0.15);\n",
              "      filter: drop-shadow(0px 1px 2px rgba(0, 0, 0, 0.3));\n",
              "      fill: #FFFFFF;\n",
              "    }\n",
              "  </style>\n",
              "\n",
              "    <script>\n",
              "      const buttonEl =\n",
              "        document.querySelector('#df-eb5e26e7-eb2d-4f9a-ad3c-699ffc1b215c button.colab-df-convert');\n",
              "      buttonEl.style.display =\n",
              "        google.colab.kernel.accessAllowed ? 'block' : 'none';\n",
              "\n",
              "      async function convertToInteractive(key) {\n",
              "        const element = document.querySelector('#df-eb5e26e7-eb2d-4f9a-ad3c-699ffc1b215c');\n",
              "        const dataTable =\n",
              "          await google.colab.kernel.invokeFunction('convertToInteractive',\n",
              "                                                    [key], {});\n",
              "        if (!dataTable) return;\n",
              "\n",
              "        const docLinkHtml = 'Like what you see? Visit the ' +\n",
              "          '<a target=\"_blank\" href=https://colab.research.google.com/notebooks/data_table.ipynb>data table notebook</a>'\n",
              "          + ' to learn more about interactive tables.';\n",
              "        element.innerHTML = '';\n",
              "        dataTable['output_type'] = 'display_data';\n",
              "        await google.colab.output.renderOutput(dataTable, element);\n",
              "        const docLink = document.createElement('div');\n",
              "        docLink.innerHTML = docLinkHtml;\n",
              "        element.appendChild(docLink);\n",
              "      }\n",
              "    </script>\n",
              "  </div>\n",
              "\n",
              "\n",
              "<div id=\"df-55e0a145-5f6a-4615-a65f-eac0f211efa6\">\n",
              "  <button class=\"colab-df-quickchart\" onclick=\"quickchart('df-55e0a145-5f6a-4615-a65f-eac0f211efa6')\"\n",
              "            title=\"Suggest charts.\"\n",
              "            style=\"display:none;\">\n",
              "\n",
              "<svg xmlns=\"http://www.w3.org/2000/svg\" height=\"24px\"viewBox=\"0 0 24 24\"\n",
              "     width=\"24px\">\n",
              "    <g>\n",
              "        <path d=\"M19 3H5c-1.1 0-2 .9-2 2v14c0 1.1.9 2 2 2h14c1.1 0 2-.9 2-2V5c0-1.1-.9-2-2-2zM9 17H7v-7h2v7zm4 0h-2V7h2v10zm4 0h-2v-4h2v4z\"/>\n",
              "    </g>\n",
              "</svg>\n",
              "  </button>\n",
              "\n",
              "<style>\n",
              "  .colab-df-quickchart {\n",
              "      --bg-color: #E8F0FE;\n",
              "      --fill-color: #1967D2;\n",
              "      --hover-bg-color: #E2EBFA;\n",
              "      --hover-fill-color: #174EA6;\n",
              "      --disabled-fill-color: #AAA;\n",
              "      --disabled-bg-color: #DDD;\n",
              "  }\n",
              "\n",
              "  [theme=dark] .colab-df-quickchart {\n",
              "      --bg-color: #3B4455;\n",
              "      --fill-color: #D2E3FC;\n",
              "      --hover-bg-color: #434B5C;\n",
              "      --hover-fill-color: #FFFFFF;\n",
              "      --disabled-bg-color: #3B4455;\n",
              "      --disabled-fill-color: #666;\n",
              "  }\n",
              "\n",
              "  .colab-df-quickchart {\n",
              "    background-color: var(--bg-color);\n",
              "    border: none;\n",
              "    border-radius: 50%;\n",
              "    cursor: pointer;\n",
              "    display: none;\n",
              "    fill: var(--fill-color);\n",
              "    height: 32px;\n",
              "    padding: 0;\n",
              "    width: 32px;\n",
              "  }\n",
              "\n",
              "  .colab-df-quickchart:hover {\n",
              "    background-color: var(--hover-bg-color);\n",
              "    box-shadow: 0 1px 2px rgba(60, 64, 67, 0.3), 0 1px 3px 1px rgba(60, 64, 67, 0.15);\n",
              "    fill: var(--button-hover-fill-color);\n",
              "  }\n",
              "\n",
              "  .colab-df-quickchart-complete:disabled,\n",
              "  .colab-df-quickchart-complete:disabled:hover {\n",
              "    background-color: var(--disabled-bg-color);\n",
              "    fill: var(--disabled-fill-color);\n",
              "    box-shadow: none;\n",
              "  }\n",
              "\n",
              "  .colab-df-spinner {\n",
              "    border: 2px solid var(--fill-color);\n",
              "    border-color: transparent;\n",
              "    border-bottom-color: var(--fill-color);\n",
              "    animation:\n",
              "      spin 1s steps(1) infinite;\n",
              "  }\n",
              "\n",
              "  @keyframes spin {\n",
              "    0% {\n",
              "      border-color: transparent;\n",
              "      border-bottom-color: var(--fill-color);\n",
              "      border-left-color: var(--fill-color);\n",
              "    }\n",
              "    20% {\n",
              "      border-color: transparent;\n",
              "      border-left-color: var(--fill-color);\n",
              "      border-top-color: var(--fill-color);\n",
              "    }\n",
              "    30% {\n",
              "      border-color: transparent;\n",
              "      border-left-color: var(--fill-color);\n",
              "      border-top-color: var(--fill-color);\n",
              "      border-right-color: var(--fill-color);\n",
              "    }\n",
              "    40% {\n",
              "      border-color: transparent;\n",
              "      border-right-color: var(--fill-color);\n",
              "      border-top-color: var(--fill-color);\n",
              "    }\n",
              "    60% {\n",
              "      border-color: transparent;\n",
              "      border-right-color: var(--fill-color);\n",
              "    }\n",
              "    80% {\n",
              "      border-color: transparent;\n",
              "      border-right-color: var(--fill-color);\n",
              "      border-bottom-color: var(--fill-color);\n",
              "    }\n",
              "    90% {\n",
              "      border-color: transparent;\n",
              "      border-bottom-color: var(--fill-color);\n",
              "    }\n",
              "  }\n",
              "</style>\n",
              "\n",
              "  <script>\n",
              "    async function quickchart(key) {\n",
              "      const quickchartButtonEl =\n",
              "        document.querySelector('#' + key + ' button');\n",
              "      quickchartButtonEl.disabled = true;  // To prevent multiple clicks.\n",
              "      quickchartButtonEl.classList.add('colab-df-spinner');\n",
              "      try {\n",
              "        const charts = await google.colab.kernel.invokeFunction(\n",
              "            'suggestCharts', [key], {});\n",
              "      } catch (error) {\n",
              "        console.error('Error during call to suggestCharts:', error);\n",
              "      }\n",
              "      quickchartButtonEl.classList.remove('colab-df-spinner');\n",
              "      quickchartButtonEl.classList.add('colab-df-quickchart-complete');\n",
              "    }\n",
              "    (() => {\n",
              "      let quickchartButtonEl =\n",
              "        document.querySelector('#df-55e0a145-5f6a-4615-a65f-eac0f211efa6 button');\n",
              "      quickchartButtonEl.style.display =\n",
              "        google.colab.kernel.accessAllowed ? 'block' : 'none';\n",
              "    })();\n",
              "  </script>\n",
              "</div>\n",
              "    </div>\n",
              "  </div>\n"
            ],
            "text/plain": [
              "       length_url  length_hostname  ip  nb_dots  nb_hyphens  nb_at  nb_qm  \\\n",
              "0              37               19   0        3           0      0      0   \n",
              "1              77               23   1        1           0      0      0   \n",
              "2             126               50   1        4           1      0      1   \n",
              "3              18               11   0        2           0      0      0   \n",
              "4              55               15   0        2           2      0      0   \n",
              "...           ...              ...  ..      ...         ...    ...    ...   \n",
              "11425          45               17   0        2           0      0      0   \n",
              "11426          84               18   0        5           0      1      1   \n",
              "11427         105               16   1        2           6      0      1   \n",
              "11428          38               30   0        2           0      0      0   \n",
              "11429         477               14   1       24           0      1      1   \n",
              "\n",
              "       nb_and  nb_or  nb_eq  ...  domain_in_title  domain_with_copyright  \\\n",
              "0           0      0      0  ...                0                      1   \n",
              "1           0      0      0  ...                1                      0   \n",
              "2           2      0      3  ...                1                      0   \n",
              "3           0      0      0  ...                1                      0   \n",
              "4           0      0      0  ...                0                      1   \n",
              "...       ...    ...    ...  ...              ...                    ...   \n",
              "11425       0      0      0  ...                0                      0   \n",
              "11426       0      0      1  ...                1                      0   \n",
              "11427       0      0      1  ...                0                      0   \n",
              "11428       0      0      0  ...                1                      0   \n",
              "11429       9      0      9  ...                1                      1   \n",
              "\n",
              "       whois_registered_domain  domain_registration_length  domain_age  \\\n",
              "0                            0                          45          -1   \n",
              "1                            0                          77        5767   \n",
              "2                            0                          14        4004   \n",
              "3                            0                          62          -1   \n",
              "4                            0                         224        8175   \n",
              "...                        ...                         ...         ...   \n",
              "11425                        0                         448        5396   \n",
              "11426                        0                         211        6728   \n",
              "11427                        0                        2809        8515   \n",
              "11428                        0                          85        2836   \n",
              "11429                        1                           0          -1   \n",
              "\n",
              "       web_traffic  dns_record  google_index  page_rank  status  \n",
              "0                0           1             1          4       0  \n",
              "1                0           0             1          2       1  \n",
              "2          5828815           0             1          0       1  \n",
              "3           107721           0             0          3       0  \n",
              "4             8725           0             0          6       0  \n",
              "...            ...         ...           ...        ...     ...  \n",
              "11425         3980           0             0          6       0  \n",
              "11426            0           0             1          0       1  \n",
              "11427            8           0             1         10       0  \n",
              "11428      2455493           0             0          4       0  \n",
              "11429            0           1             1          0       1  \n",
              "\n",
              "[11430 rows x 88 columns]"
            ]
          },
          "execution_count": 5,
          "metadata": {},
          "output_type": "execute_result"
        }
      ],
      "source": [
        "#Change the label classes to a one or a zero\n",
        "phishing_data['status'] = phishing_data['status'].replace({'legitimate': 0, 'phishing': 1})\n",
        "#Print the result\n",
        "phishing_data"
      ]
    },
    {
      "cell_type": "markdown",
      "metadata": {
        "id": "CTCz3eM6Vgcl"
      },
      "source": [
        "The next thing we need to do is seperate the dataset into two parts.  The labels and the examples.\n",
        "\n",
        "Typically Labels are numbers.  Here we have two classes of data:\n",
        "\n",
        "1 = Phishing site\n",
        "\n",
        "0 = Not Phishing Site"
      ]
    },
    {
      "cell_type": "code",
      "execution_count": null,
      "metadata": {
        "colab": {
          "base_uri": "https://localhost:8080/"
        },
        "id": "_QfJhF6-ZX0A",
        "outputId": "0dd06d62-4754-486c-88d4-a3bf0e06cc0a"
      },
      "outputs": [
        {
          "name": "stdout",
          "output_type": "stream",
          "text": [
            "[0 1 1 ... 0 0 1]\n"
          ]
        }
      ],
      "source": [
        "#First the Labels\n",
        "y = phishing_data[\"status\"].values\n",
        "print(y)"
      ]
    },
    {
      "cell_type": "code",
      "execution_count": null,
      "metadata": {
        "colab": {
          "base_uri": "https://localhost:8080/"
        },
        "id": "GIOvvUiQY95e",
        "outputId": "18bf40af-2164-4266-b5be-bf2d0fec1053"
      },
      "outputs": [
        {
          "name": "stdout",
          "output_type": "stream",
          "text": [
            "[[ 37.  19.   0. ...   1.   1.   4.]\n",
            " [ 77.  23.   1. ...   0.   1.   2.]\n",
            " [126.  50.   1. ...   0.   1.   0.]\n",
            " ...\n",
            " [105.  16.   1. ...   0.   1.  10.]\n",
            " [ 38.  30.   0. ...   0.   0.   4.]\n",
            " [477.  14.   1. ...   1.   1.   0.]]\n"
          ]
        }
      ],
      "source": [
        "#Second the example data\n",
        "X = phishing_data.drop(\"status\", axis=1).values\n",
        "print(X)"
      ]
    },
    {
      "cell_type": "code",
      "execution_count": null,
      "metadata": {
        "colab": {
          "base_uri": "https://localhost:8080/"
        },
        "id": "nCy-iVGWAlpG",
        "outputId": "75e31b7b-ee1c-4cc4-a8e0-50d2eec1f10f"
      },
      "outputs": [
        {
          "name": "stdout",
          "output_type": "stream",
          "text": [
            "0    5715\n",
            "1    5715\n",
            "Name: status, dtype: int64\n"
          ]
        }
      ],
      "source": [
        "#Let's see how many of the data are phishing and not phishing\n",
        "print(phishing_data['status'].value_counts())"
      ]
    },
    {
      "cell_type": "markdown",
      "metadata": {
        "id": "EtU9cFt7AdbL"
      },
      "source": [
        "Great we have a balance dataset.  Equal represebtation of each label phish and not phish.    Now lets look at how the features relate to each other.  There are two things we can look at **Covariance** and **Correlation**.   \n",
        "\n",
        "---\n",
        "\n",
        "Covariance:  measures how two variables (features) vary with respect to each other.  For example an increase in a person's height corresponds to an increas in a persons weight.  This would be a positive covariance.\n",
        "\n",
        "---\n",
        "Correlation: Correlation is a normalized covariance value.  What this means is that it is not affected by changes in scales.  Correlation makes the comparison measure fall between -1 and 1.    In this case a value of +1 indicates that the features have a direct and strong relationship.  Conversely a value of -1 means that the values have strong independence from one another.\n"
      ]
    },
    {
      "cell_type": "code",
      "execution_count": null,
      "metadata": {
        "colab": {
          "base_uri": "https://localhost:8080/"
        },
        "id": "a2biLQprCEKq",
        "outputId": "704e711e-3bcf-4960-e38d-cd0ba4c3e140"
      },
      "outputs": [
        {
          "name": "stdout",
          "output_type": "stream",
          "text": [
            "status                     1.000000\n",
            "google_index               0.731171\n",
            "ratio_digits_url           0.356395\n",
            "domain_in_title            0.342807\n",
            "phish_hints                0.335393\n",
            "ip                         0.321698\n",
            "nb_qm                      0.294319\n",
            "length_url                 0.248580\n",
            "nb_slash                   0.242270\n",
            "length_hostname            0.238322\n",
            "nb_eq                      0.233386\n",
            "ratio_digits_host          0.224335\n",
            "shortest_word_host         0.223084\n",
            "prefix_suffix              0.214681\n",
            "longest_word_path          0.212709\n",
            "tld_in_subdomain           0.208884\n",
            "empty_title                0.207043\n",
            "nb_dots                    0.207029\n",
            "longest_words_raw          0.200147\n",
            "avg_word_path              0.197256\n",
            "avg_word_host              0.193502\n",
            "length_words_raw           0.192010\n",
            "nb_and                     0.170546\n",
            "avg_words_raw              0.167564\n",
            "nb_com                     0.156284\n",
            "statistical_report         0.143944\n",
            "nb_at                      0.142915\n",
            "abnormal_subdomain         0.128160\n",
            "longest_word_host          0.124516\n",
            "dns_record                 0.122119\n",
            "https_token                0.114669\n",
            "nb_subdomains              0.112891\n",
            "suspecious_tld             0.110090\n",
            "shortening_service         0.106120\n",
            "nb_semicolumn              0.103554\n",
            "nb_colon                   0.092835\n",
            "ratio_extHyperlinks        0.083357\n",
            "tld_in_path                0.079147\n",
            "shortest_word_path         0.074365\n",
            "nb_dslash                  0.072602\n",
            "http_in_path               0.070776\n",
            "whois_registered_domain    0.066979\n",
            "brand_in_path              0.065156\n",
            "brand_in_subdomain         0.064257\n",
            "web_traffic                0.060388\n",
            "nb_external_redirection    0.056210\n",
            "nb_underscore              0.038091\n",
            "nb_tilde                   0.030142\n",
            "nb_percent                 0.028101\n",
            "nb_star                    0.026465\n",
            "Name: status, dtype: float64\n"
          ]
        }
      ],
      "source": [
        "correlation_matrix = phishing_data.corr(numeric_only=True)\n",
        "sorted_corr = correlation_matrix.sort_values(by='status',ascending=False)\n",
        "\n",
        "print(sorted_corr['status'].head(50))"
      ]
    },
    {
      "cell_type": "markdown",
      "metadata": {
        "id": "jZojgh7hEb7u"
      },
      "source": [
        "As we can see above, the status (label) has a 100% correlation with the outcome.  This is what we would expect.  The other features are ranked by their correlation to the decision.  "
      ]
    },
    {
      "cell_type": "markdown",
      "metadata": {
        "id": "4iSpTV80wRHO"
      },
      "source": [
        "# K Nearest Neighbors\n",
        "\n",
        "K-Nearest Neighbors (KNN) is a simple machine learning algorithm that helps us make predictions based on similarity. Imagine you have a bunch of points on a graph, each with a label (like red or blue). KNN works by finding the K nearest points to a new, unlabeled point you want to classify. It then looks at the labels of those nearest points and decides the label for the new point based on majority rule. For example, if most of the nearest points are red, the new point would be classified as red. K is a number you choose, and it determines how many neighbors to consider. KNN is like asking your closest friends for advice – if most of them agree, you'll probably follow their suggestion.\n",
        "\n",
        "![image.png](https://upload.wikimedia.org/wikipedia/commons/thumb/e/e7/KnnClassification.svg/330px-KnnClassification.svg.png)"
      ]
    },
    {
      "cell_type": "code",
      "execution_count": null,
      "metadata": {
        "id": "D_QV9iZSZ3Ux"
      },
      "outputs": [],
      "source": [
        "\n",
        "def KNN(X,y):\n",
        "  skf = StratifiedKFold(n_splits=10, shuffle=True, random_state=42)\n",
        "  accuracy = []\n",
        "  precision = []\n",
        "  recall = []\n",
        "  f1 = []\n",
        "\n",
        "\n",
        "  # we are going to run the model 10 times 'n_splits=10' each time we shuffle the data randomly.\n",
        "  #This helps prevent our model from overfitting.\n",
        "  for train, test in skf.split(X,y):\n",
        "     X_train, y_train = X[train], y[train] #training\n",
        "     X_test, y_test = X[test], y[test] #testing\n",
        "\n",
        "     knn = KNeighborsClassifier(n_neighbors=3)\n",
        "     knn.fit(X_train, y_train)\n",
        "\n",
        "     y_pred = knn.predict(X_test)\n",
        "\n",
        "     accuracy.append(accuracy_score(y_test, y_pred))\n",
        "     recall.append(recall_score(y_test, y_pred, average='macro'))\n",
        "     precision.append(precision_score(y_test, y_pred, average='macro'))\n",
        "     f1.append(f1_score(y_test, y_pred, average='macro'))\n",
        "\n",
        "\n",
        "  average_accuracy = np.mean(accuracy)\n",
        "  average_recall = np.mean(recall)\n",
        "  average_precision = np.mean(precision)\n",
        "  average_f1 = np.mean(f1)\n",
        "\n",
        "  print(f\"Acurracy: {average_accuracy}\")\n",
        "  print(f\"Recall: {average_recall}\")\n",
        "  print(f\"Precision:{average_precision}\")\n",
        "  print(f\"F1 Score:{average_f1}\")\n",
        "\n"
      ]
    },
    {
      "cell_type": "code",
      "execution_count": null,
      "metadata": {
        "colab": {
          "base_uri": "https://localhost:8080/"
        },
        "id": "5wY5bWg1cn2I",
        "outputId": "063a4624-e67f-40bb-ef7b-50cba9680a7b"
      },
      "outputs": [
        {
          "name": "stdout",
          "output_type": "stream",
          "text": [
            "Acurracy: 0.8432195975503063\n",
            "Recall: 0.8432190182846926\n",
            "Precision:0.8440841687189466\n",
            "F1 Score:0.8431202845241101\n"
          ]
        }
      ],
      "source": [
        "KNN(X,y)"
      ]
    },
    {
      "cell_type": "markdown",
      "metadata": {
        "id": "OJ38J5NT0Uh7"
      },
      "source": [
        "# Decision Tree\n",
        "\n",
        "A [Decision Tree](https://en.wikipedia.org/wiki/Decision_tree) is a supervised machine learning algorithm used for both classification and regression tasks. It works by recursively splitting the dataset into subsets based on the features that provide the best separation between classes (for classification) or the best predictive power (for regression). These splits are determined by evaluating criteria like Gini impurity or information gain for classification and mean squared error for regression. The process continues until a stopping criterion is met, such as reaching a maximum depth or having too few samples in a node. Once the tree is built, it can be used to make predictions by traversing the tree from the root node to a leaf node, which corresponds to the predicted class (in classification) or the predicted value (in regression) for the input data. Decision Trees are interpretable, which means you can easily understand the reasoning behind their predictions.\n",
        "\n",
        "<img src=\"https://upload.wikimedia.org/wikipedia/commons/a/ad/Decision-Tree-Elements.png\" />"
      ]
    },
    {
      "cell_type": "code",
      "execution_count": null,
      "metadata": {
        "id": "Z9ILgYvj0u7E"
      },
      "outputs": [],
      "source": [
        "def DT(X,y):\n",
        "  skf = StratifiedKFold(n_splits=10, shuffle=True, random_state=42)\n",
        "  accuracy = []\n",
        "  precision = []\n",
        "  recall = []\n",
        "  f1 = []\n",
        "\n",
        "\n",
        "  for train, test in skf.split(X,y):\n",
        "     X_train, y_train = X[train], y[train] #training\n",
        "     X_test, y_test = X[test], y[test] #testing\n",
        "\n",
        "     dt = DecisionTreeClassifier(criterion='gini') #Gini is a measure of statistical dispersion that quantifies the inequality or impurity within a set of values,\n",
        "     dt.fit(X_train, y_train)\n",
        "\n",
        "     y_pred = dt.predict(X_test)\n",
        "\n",
        "     accuracy.append(accuracy_score(y_test, y_pred))\n",
        "     recall.append(recall_score(y_test, y_pred, average='macro'))\n",
        "     precision.append(precision_score(y_test, y_pred, average='macro'))\n",
        "     f1.append(f1_score(y_test, y_pred, average='macro'))\n",
        "\n",
        "\n",
        "  average_accuracy = np.mean(accuracy)\n",
        "  average_recall = np.mean(recall)\n",
        "  average_precision = np.mean(precision)\n",
        "  average_f1 = np.mean(f1)\n",
        "\n",
        "  print(f\"Acurracy: {average_accuracy}\")\n",
        "  print(f\"Recall: {average_recall}\")\n",
        "  print(f\"Precision:{average_precision}\")\n",
        "  print(f\"F1 Score:{average_f1}\")"
      ]
    },
    {
      "cell_type": "code",
      "execution_count": null,
      "metadata": {
        "colab": {
          "base_uri": "https://localhost:8080/"
        },
        "id": "6r4A9PhH1VRc",
        "outputId": "bf822676-2dac-4a19-9ed2-41f59eb615b8"
      },
      "outputs": [
        {
          "name": "stdout",
          "output_type": "stream",
          "text": [
            "Acurracy: 0.9340332458442695\n",
            "Recall: 0.9340324299168431\n",
            "Precision:0.934087831397672\n",
            "F1 Score:0.934030822378465\n"
          ]
        }
      ],
      "source": [
        "DT(X,y)"
      ]
    },
    {
      "cell_type": "markdown",
      "metadata": {
        "id": "MXFXBvIYxbQI"
      },
      "source": [
        "# Random Forrest\n",
        "Random Forest is an ensemble learning technique in machine learning that leverages a collection of decision trees to improve predictive accuracy and reduce overfitting. It works by creating multiple decision trees during training, where each tree is constructed using a random subset of the training data and a random subset of the features. When making predictions, each tree provides its individual prediction, and the final prediction is determined by taking a majority vote (classification) or averaging (regression) across all the individual tree predictions. This ensemble approach helps enhance the robustness and generalization of the model, as it combines the strengths of multiple decision trees while mitigating their individual weaknesses and biases.\n",
        "\n",
        "  <img src=\"https://upload.wikimedia.org/wikipedia/commons/thumb/7/76/Random_forest_diagram_complete.png/330px-Random_forest_diagram_complete.png\" alt=\"drawing\" width=\"50%\"/>\n",
        "\n",
        "\n"
      ]
    },
    {
      "cell_type": "code",
      "execution_count": null,
      "metadata": {
        "id": "d6emnhNIfDZu"
      },
      "outputs": [],
      "source": [
        "#Random Forrest\n",
        "def RF(X,y):\n",
        "    skf = StratifiedKFold(n_splits=10, shuffle=True, random_state=42)\n",
        "    accuracy = []\n",
        "    precision = []\n",
        "    recall = []\n",
        "    f1 = []\n",
        "\n",
        "\n",
        "    # we are going to run the model 10 times 'n_splits=10' each time we shuffle the data randomly.\n",
        "    #This helps prevent our model from overfitting.\n",
        "    for train, test in skf.split(X,y):\n",
        "      X_train, y_train = X[train], y[train] #training\n",
        "      X_test, y_test = X[test], y[test] #testing\n",
        "\n",
        "\n",
        "      # Create a Random Forest classifier\n",
        "      rf_classifier = RandomForestClassifier(n_estimators=100, random_state=42)\n",
        "\n",
        "      # Fit the classifier to the training data\n",
        "      rf_classifier.fit(X_train, y_train)\n",
        "\n",
        "      # Make predictions on the test data\n",
        "      y_pred = rf_classifier.predict(X_test)\n",
        "\n",
        "      accuracy.append(accuracy_score(y_test, y_pred))\n",
        "      recall.append(recall_score(y_test, y_pred, average='macro'))\n",
        "      precision.append(precision_score(y_test, y_pred, average='macro'))\n",
        "      f1.append(f1_score(y_test, y_pred, average='macro'))\n",
        "\n",
        "    average_accuracy = np.mean(accuracy)\n",
        "    average_recall = np.mean(recall)\n",
        "    average_precision = np.mean(precision)\n",
        "    average_f1 = np.mean(f1)\n",
        "\n",
        "    print(f\"Acurracy: {average_accuracy}\")\n",
        "    print(f\"Recall: {average_recall}\")\n",
        "    print(f\"Precision:{average_precision}\")\n",
        "    print(f\"F1 Score:{average_f1}\")\n"
      ]
    },
    {
      "cell_type": "code",
      "execution_count": null,
      "metadata": {
        "colab": {
          "base_uri": "https://localhost:8080/"
        },
        "id": "ekgFf1uCghOW",
        "outputId": "2dfb9d3b-43f5-4604-d0c6-a81e433d18e6"
      },
      "outputs": [
        {
          "name": "stdout",
          "output_type": "stream",
          "text": [
            "Acurracy: 0.9656167979002624\n",
            "Recall: 0.9656165419519185\n",
            "Precision:0.9656625180250511\n",
            "F1 Score:0.9656160207555683\n"
          ]
        }
      ],
      "source": [
        "RF(X,y)"
      ]
    },
    {
      "cell_type": "code",
      "execution_count": null,
      "metadata": {
        "id": "mO-3KE7Es1CE"
      },
      "outputs": [],
      "source": []
    },
    {
      "cell_type": "markdown",
      "metadata": {
        "id": "BZDo9KpsqM60"
      },
      "source": [
        "<a name=\"dnn\"></a>\n",
        "# Deep Neural Networks (DNNs)\n",
        "DNNs take the primitive perceptron and build complex networks of interconnected neurons sometimes with many hidden layers.\n",
        "\n",
        "<table width=\"100%\">\n",
        "<tr>\n",
        "<td>\n",
        "  <img src=\"https://www.simplilearn.com/ice9/free_resources_article_thumb/Perceptron_work.png\" alt=\"drawing\"/>\n",
        "</td>\n",
        "<td>\n",
        "  <img src=\"https://upload.wikimedia.org/wikipedia/commons/thumb/b/b8/MultiLayerPerceptron.svg/2560px-MultiLayerPerceptron.svg.png\" alt=\"drawing\" />\n",
        "</td>\n",
        "</tr>\n",
        "</table>\n",
        "\n",
        "\n"
      ]
    },
    {
      "cell_type": "code",
      "execution_count": null,
      "metadata": {
        "id": "9ljeGp3sY9FO"
      },
      "outputs": [],
      "source": [
        "#Neural Nets  We'll use the Multi-Layer Perceptron MLP\n",
        "#Important hyper-paramters are Learning_rate  This affects how fast the algorihms converges (minimizes errors).\n",
        "#A learning rate that is to high will lead to sub-optimal solutions, too low and it will take forever.\n",
        "def MLP(X,y):\n",
        "    skf = StratifiedKFold(n_splits=10, shuffle=True, random_state=42)\n",
        "    accuracy = []\n",
        "    precision = []\n",
        "    recall = []\n",
        "    f1 = []\n",
        "\n",
        "\n",
        "    # we are going to run the model 10 times 'n_splits=10' each time we shuffle the data randomly.\n",
        "    #This helps prevent our model from overfitting.\n",
        "    for train, test in skf.split(X,y):\n",
        "      X_train, y_train = X[train], y[train] #training\n",
        "      X_test, y_test = X[test], y[test] #testing\n",
        "\n",
        "      mlp = MLPClassifier(\n",
        "            solver='adam',            #‘adam’ refers to a stochastic gradient-based optimizer proposed by Kingma, Diederik, and Jimmy Ba\n",
        "            hidden_layer_sizes=(20,),\n",
        "            activation='tanh',\n",
        "            max_iter=20,\n",
        "            validation_fraction=0.2,\n",
        "            learning_rate_init=0.01,   #The amount that the weights are updated a small positive value, often in the range between 0.0 and 1.0.\n",
        "        )\n",
        "\n",
        "      # Fit (train) the classifier\n",
        "      mlp.fit(X_train,y_train)\n",
        "\n",
        "      #Predict the results using the set-aside test data.\n",
        "      y_pred = mlp.predict(X_test)\n",
        "\n",
        "      accuracy.append(accuracy_score(y_test, y_pred))\n",
        "      recall.append(recall_score(y_test, y_pred, average='macro'))\n",
        "      precision.append(precision_score(y_test, y_pred, average='macro'))\n",
        "      f1.append(f1_score(y_test, y_pred, average='macro'))\n",
        "\n",
        "    average_accuracy = np.mean(accuracy)\n",
        "    average_recall = np.mean(recall)\n",
        "    average_precision = np.mean(precision)\n",
        "    average_f1 = np.mean(f1)\n",
        "\n",
        "    print(f\"Acurracy: {average_accuracy}\")\n",
        "    print(f\"Recall: {average_recall}\")\n",
        "    print(f\"Precision:{average_precision}\")\n",
        "    print(f\"F1 Score:{average_f1}\")"
      ]
    },
    {
      "cell_type": "code",
      "execution_count": null,
      "metadata": {
        "colab": {
          "base_uri": "https://localhost:8080/"
        },
        "id": "4X4OdTs1HsEb",
        "outputId": "64f41984-cec4-4257-f324-e7fecacd45ac"
      },
      "outputs": [
        {
          "name": "stdout",
          "output_type": "stream",
          "text": [
            "Acurracy: 0.7050743657042869\n",
            "Recall: 0.7050457423487196\n",
            "Precision:0.7168306231658895\n",
            "F1 Score:0.7010568065235776\n"
          ]
        }
      ],
      "source": [
        "MLP(X,y)"
      ]
    },
    {
      "cell_type": "code",
      "execution_count": 5,
      "metadata": {
        "colab": {
          "base_uri": "https://localhost:8080/"
        },
        "id": "iFdEfWIoiUdK",
        "outputId": "c901f26f-d90d-4acb-941d-37b9a54c9b77"
      },
      "outputs": [
        {
          "output_type": "stream",
          "name": "stdout",
          "text": [
            "Collecting Levenshtein\n",
            "  Downloading Levenshtein-0.21.1-cp310-cp310-manylinux_2_17_x86_64.manylinux2014_x86_64.whl (172 kB)\n",
            "\u001b[2K     \u001b[90m━━━━━━━━━━━━━━━━━━━━━━━━━━━━━━━━━━━━━━━\u001b[0m \u001b[32m172.5/172.5 kB\u001b[0m \u001b[31m2.6 MB/s\u001b[0m eta \u001b[36m0:00:00\u001b[0m\n",
            "\u001b[?25hCollecting rapidfuzz<4.0.0,>=2.3.0 (from Levenshtein)\n",
            "  Downloading rapidfuzz-3.3.0-cp310-cp310-manylinux_2_17_x86_64.manylinux2014_x86_64.whl (3.1 MB)\n",
            "\u001b[2K     \u001b[90m━━━━━━━━━━━━━━━━━━━━━━━━━━━━━━━━━━━━━━━━\u001b[0m \u001b[32m3.1/3.1 MB\u001b[0m \u001b[31m58.1 MB/s\u001b[0m eta \u001b[36m0:00:00\u001b[0m\n",
            "\u001b[?25hInstalling collected packages: rapidfuzz, Levenshtein\n",
            "Successfully installed Levenshtein-0.21.1 rapidfuzz-3.3.0\n",
            "File integrity failed: data/url_features.py\n",
            "File integrity failed: data/allbrands.txt\n"
          ]
        }
      ],
      "source": [
        "!pip install Levenshtein\n",
        "from joblib.numpy_pickle import load\n",
        "import requests\n",
        "import hashlib\n",
        "import os\n",
        "\n",
        "timeout_seconds = 10\n",
        "\n",
        "#create the scratch directory for our imported python files\n",
        "if not os.path.exists(\"data\"):\n",
        "    os.makedirs(\"data\")\n",
        "\n",
        "#This is to load files from the data directory\n",
        "init_file_path = os.path.join(\"data\", \"__init__.py\")\n",
        "\n",
        "# Create an empty __init__.py file\n",
        "with open(init_file_path, \"w\") as init_file:\n",
        "    pass\n",
        "\n",
        "#Data extraction scripts are hosted here: https://data.mendeley.com/datasets/c2gw7fy2j4/3\n",
        "url_features_url =\"https://raw.githubusercontent.com/khaefner/M3AAWG_AI_Training_Phishing/main/url_features.py\"\n",
        "url_features_sha=\"66e2cbcd2760dd8b08600fdc80edd1f788a7c2a4ca1b03ae4de02d4fc635ad4b\"\n",
        "\n",
        "all_brands_url = \"https://raw.githubusercontent.com/khaefner/M3AAWG_AI_Training_Phishing/main/allbrands.txt\"\n",
        "all_brands_sha = \"58fc066042181abbb1b42dd9ebf046dd0826347f93a6c8a6c129a4b8fb252efe\"\n",
        "\n",
        "content_features_url = \"https://raw.githubusercontent.com/khaefner/M3AAWG_AI_Training_Phishing/main/content_features.py\"\n",
        "content_features_sha = \"\"\n",
        "\n",
        "external_features_url = \"https://raw.githubusercontent.com/khaefner/M3AAWG_AI_Training_Phishing/main/external_features.py\"\n",
        "external_features_sha = \"\"\n",
        "\n",
        "feature_extractor_url = \"https://raw.githubusercontent.com/khaefner/M3AAWG_AI_Training_Phishing/main/feature_extractor.py\"\n",
        "feature_extractor_sha = \"\"\n",
        "\n",
        "\n",
        "\n",
        "def calculate_hash(file_path,expected_hash):\n",
        "  # Create a SHA-256 hash object\n",
        "  sha256 = hashlib.sha256()\n",
        "\n",
        "  # Read the file in binary mode and update the hash object\n",
        "  with open(file_path, \"rb\") as file:\n",
        "      while True:\n",
        "          data = file.read(65536)  # You can adjust the buffer size as needed\n",
        "          if not data:\n",
        "              break\n",
        "          sha256.update(data)\n",
        "  calculated_hash = sha256.hexdigest()\n",
        "  if calculated_hash == expected_hash:\n",
        "    return True\n",
        "  else:\n",
        "    return False\n",
        "\n",
        "\n",
        "def get_lib(url, destination_path, expected_hash):\n",
        "  try:\n",
        "    response = requests.get(url, timeout=timeout_seconds)\n",
        "    # Check if the request was successful (status code 200)\n",
        "    if response.status_code == 200:\n",
        "        # Open the local file in binary write mode and write the content of the response to it\n",
        "        with open(\"data/\"+destination_path, \"wb\") as file:\n",
        "          file.write(response.content)\n",
        "          if calculate_hash(\"data/\"+destination_path,expected_hash):\n",
        "              print(f\"File integrity passed: {'data/'+destination_path}\")\n",
        "          else:\n",
        "              print(f\"File integrity failed: {'data/'+destination_path}\")\n",
        "              return\n",
        "        print(f\"File downloaded to {'data/'+destination_path}\")\n",
        "\n",
        "    else:\n",
        "        print(f\"Failed to download file. Status code: {response.status_code}\")\n",
        "  except requests.exceptions.Timeout:\n",
        "    print(f\"Request timed out after {timeout_seconds} seconds.\")\n",
        "  except requests.exceptions.RequestException as e:\n",
        "    print(f\"An error occurred during the request: {str(e)}\")\n",
        "\n",
        "get_lib(url_features_url,\"url_features.py\",url_features_sha)\n",
        "get_lib(all_brands_url,\"allbrands.txt\",all_brands_sha)\n",
        "\n",
        "\n",
        "\n",
        "\n",
        "\n"
      ]
    },
    {
      "cell_type": "code",
      "source": [
        "import data.url_features"
      ],
      "metadata": {
        "id": "nLE6e-W84WMh"
      },
      "execution_count": null,
      "outputs": []
    }
  ],
  "metadata": {
    "colab": {
      "provenance": [],
      "authorship_tag": "ABX9TyOpgA0/lEiZOrXdN53NAO/G",
      "include_colab_link": true
    },
    "kernelspec": {
      "display_name": "Python 3",
      "name": "python3"
    },
    "language_info": {
      "name": "python"
    }
  },
  "nbformat": 4,
  "nbformat_minor": 0
}